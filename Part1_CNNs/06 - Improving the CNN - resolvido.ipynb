{
 "cells": [
  {
   "cell_type": "code",
   "execution_count": 1,
   "metadata": {},
   "outputs": [],
   "source": [
    "# Importando as bibliotecas necessárias\n",
    "import torch\n",
    "import torch.nn as nn\n",
    "import torch.optim as optim\n",
    "import torch.nn.functional as F\n",
    "from torch.utils.data import Dataset, DataLoader, Subset\n",
    "import torchvision\n",
    "import torchvision.transforms as transforms\n",
    "import matplotlib.pyplot as plt\n",
    "import numpy as np\n",
    "import pandas as pd\n",
    "from tqdm import tqdm"
   ]
  },
  {
   "cell_type": "code",
   "execution_count": 3,
   "metadata": {},
   "outputs": [
    {
     "name": "stdout",
     "output_type": "stream",
     "text": [
      "Arquivo baixado com sucesso!\n"
     ]
    }
   ],
   "source": [
    "# # Download do dataset MNIST into data dir\n",
    "# ! wget https://pjreddie.com/media/files/mnist_train.csv -P data\n",
    "\n",
    "import requests\n",
    "\n",
    "url = \"https://pjreddie.com/media/files/mnist_train.csv\"\n",
    "output_path = \"data/mnist_train.csv\"\n",
    "\n",
    "response = requests.get(url)\n",
    "if response.status_code == 200:\n",
    "    with open(output_path, \"wb\") as file:\n",
    "        file.write(response.content)\n",
    "    print(\"Arquivo baixado com sucesso!\")\n",
    "else:\n",
    "    print(f\"Erro ao baixar o arquivo: {response.status_code}\")\n"
   ]
  },
  {
   "cell_type": "code",
   "execution_count": 4,
   "metadata": {},
   "outputs": [],
   "source": [
    "class MNISTDataset(Dataset):\n",
    "    def __init__(self, csv_file, transform=None):\n",
    "        self.data = pd.read_csv(csv_file, header=None)\n",
    "        self.transform = transform\n",
    "\n",
    "    def __len__(self):\n",
    "        return len(self.data)\n",
    "\n",
    "    def __getitem__(self, idx):\n",
    "        # A primeira coluna é o rótulo\n",
    "        label = self.data.iloc[idx, 0]\n",
    "        # As demais colunas são os pixels da imagem\n",
    "        image = self.data.iloc[idx, 1:].values.astype('uint8').reshape(28, 28)\n",
    "\n",
    "        if self.transform:\n",
    "            image = self.transform(image)\n",
    "\n",
    "        return image, label"
   ]
  },
  {
   "cell_type": "code",
   "execution_count": 5,
   "metadata": {},
   "outputs": [],
   "source": [
    "# Transformação para converter a imagem para tensor\n",
    "transform = transforms.Compose([\n",
    "    transforms.ToTensor(),      # Convertendo a imagem PIL para tensor\n",
    "    transforms.Normalize((0.5,), (0.5,))  # Normalizando a imagem\n",
    "])\n",
    "\n",
    "# Criando o dataset\n",
    "mnist_dataset = MNISTDataset(\"./data/mnist_train.csv\", transform=transform)\n",
    "\n",
    "# Transformação para converter a imagem para tensor\n",
    "transform = transforms.Compose([\n",
    "    transforms.ToPILImage(),    # Convertendo o array numpy para imagem PIL\n",
    "    transforms.ToTensor(),      # Convertendo a imagem PIL para tensor\n",
    "    transforms.Normalize((0.5,), (0.5,))  # Normalizando a imagem\n",
    "])\n",
    "\n",
    "# Criando o dataset\n",
    "mnist_dataset = MNISTDataset(\"./data/mnist_train.csv\", transform=transform)"
   ]
  },
  {
   "cell_type": "code",
   "execution_count": 6,
   "metadata": {},
   "outputs": [],
   "source": [
    "# Criando índices aleatórios para os subsets de treino e teste\n",
    "np.random.seed(42)\n",
    "indices = np.arange(len(mnist_dataset))\n",
    "np.random.shuffle(indices)\n",
    "\n",
    "# Dividindo os índices em trainset e testset\n",
    "num_train = 1000\n",
    "num_val = 500\n",
    "num_test = 500\n",
    "train_indices = indices[:num_train]  # Primeiros 1.000 índices para o trainset\n",
    "val_indices = indices[num_train:num_train+num_val]  # Próximos 500 índices para o valset\n",
    "test_indices = indices[num_train+num_val:num_train+num_val+num_test]  # Mais 500 para o testset\n",
    "\n",
    "trainset = Subset(mnist_dataset, train_indices)\n",
    "valset = Subset(mnist_dataset, val_indices)\n",
    "testset = Subset(mnist_dataset, test_indices)\n",
    "\n",
    "# Criando DataLoaders para os subsets\n",
    "trainloader = DataLoader(trainset, batch_size=64, shuffle=True)\n",
    "valloader = DataLoader(valset, batch_size=64, shuffle=False)\n",
    "testloader = DataLoader(testset, batch_size=64, shuffle=False)"
   ]
  },
  {
   "cell_type": "code",
   "execution_count": 7,
   "metadata": {},
   "outputs": [],
   "source": [
    "def train_model(model, trainloader, valloader, criterion, optimizer, num_epochs=5):\n",
    "    history = {\n",
    "        'train_losses': [],\n",
    "        'val_losses': [],\n",
    "        'train_accuracies': [],\n",
    "        'val_accuracies': []\n",
    "    }\n",
    "    \n",
    "    for epoch in range(num_epochs):\n",
    "        # Treinamento\n",
    "        model.train()\n",
    "        running_loss = 0.0\n",
    "        correct = 0\n",
    "        total = 0\n",
    "        for i, data in tqdm(enumerate(trainloader, 0), total=len(trainloader)):\n",
    "            inputs, labels = data\n",
    "\n",
    "            optimizer.zero_grad()\n",
    "\n",
    "            outputs = model(inputs)\n",
    "            loss = criterion(outputs, labels)\n",
    "            loss.backward()\n",
    "            optimizer.step()\n",
    "\n",
    "            running_loss += loss.item()\n",
    "            _, predicted = torch.max(outputs.data, 1)\n",
    "            total += labels.size(0)\n",
    "            correct += (predicted == labels).sum().item()\n",
    "\n",
    "        train_loss = running_loss / len(trainloader)\n",
    "        train_acc = 100 * correct / total\n",
    "        history['train_losses'].append(train_loss)\n",
    "        history['train_accuracies'].append(train_acc)\n",
    "        print(f'Epoch {epoch+1}, Train Loss: {train_loss:.3f}, Train Accuracy: {train_acc:.2f}%')\n",
    "        \n",
    "        # Validação\n",
    "        model.eval()\n",
    "        val_running_loss = 0.0\n",
    "        correct = 0\n",
    "        total = 0\n",
    "        with torch.no_grad():\n",
    "            for data in valloader:\n",
    "                inputs, labels = data\n",
    "                outputs = model(inputs)\n",
    "                loss = criterion(outputs, labels)\n",
    "                val_running_loss += loss.item()\n",
    "                _, predicted = torch.max(outputs.data, 1)\n",
    "                total += labels.size(0)\n",
    "                correct += (predicted == labels).sum().item()\n",
    "\n",
    "        val_loss = val_running_loss / len(valloader)\n",
    "        val_acc = 100 * correct / total\n",
    "        history['val_losses'].append(val_loss)\n",
    "        history['val_accuracies'].append(val_acc)\n",
    "        print(f'Epoch {epoch+1}, Val Loss: {val_loss:.3f}, Val Accuracy: {val_acc:.2f}%')\n",
    "\n",
    "    print('Treinamento concluído')\n",
    "    return history\n",
    "\n",
    "\n",
    "def test_model(model, testloader):\n",
    "    correct = 0\n",
    "    total = 0\n",
    "    with torch.no_grad():\n",
    "        for data in testloader:\n",
    "            images, labels = data\n",
    "            outputs = model(images)\n",
    "            _, predicted = torch.max(outputs.data, 1)\n",
    "            total += labels.size(0)\n",
    "            correct += (predicted == labels).sum().item()\n",
    "\n",
    "    print(f'Acurácia da rede na base de teste: {100 * correct / total:.2f}%')"
   ]
  },
  {
   "cell_type": "code",
   "execution_count": 8,
   "metadata": {},
   "outputs": [],
   "source": [
    "class CNN(nn.Module):\n",
    "    def __init__(self, initialize_weights=True, dropout=0.2):\n",
    "        super(CNN, self).__init__()\n",
    "        self.conv1 = nn.Conv2d(1, 6, 5)\n",
    "        self.conv2 = nn.Conv2d(6, 12, 5)\n",
    "        self.fc1 = nn.Linear(12 * 4 * 4, 64)\n",
    "        self.fc2 = nn.Linear(64, 10)\n",
    "        self.dropout = nn.Dropout(dropout)\n",
    "\n",
    "        if initialize_weights:\n",
    "            self._initialize_weights()\n",
    "\n",
    "    def forward(self, x):\n",
    "        # CNN\n",
    "        x = F.relu(self.conv1(x))\n",
    "        x = F.max_pool2d(x, 2, 2)\n",
    "        x = F.relu(self.conv2(x))\n",
    "        x = F.max_pool2d(x, 2, 2)\n",
    "\n",
    "        # Flatten\n",
    "        x = x.view(-1, 12 * 4 * 4)\n",
    "        x = self.dropout(F.relu(self.fc1(x)))\n",
    "        x = self.fc2(x)\n",
    "\n",
    "        return x\n",
    "\n",
    "    def _initialize_weights(self):\n",
    "        for m in self.modules():\n",
    "            if isinstance(m, nn.Conv2d) or isinstance(m, nn.Linear):\n",
    "                nn.init.xavier_normal_(m.weight)\n",
    "                if m.bias is not None:\n",
    "                    nn.init.constant_(m.bias, 0)"
   ]
  },
  {
   "cell_type": "code",
   "execution_count": 9,
   "metadata": {},
   "outputs": [],
   "source": [
    "model = CNN(\n",
    "    initialize_weights=True,\n",
    "    dropout=0.2\n",
    ")"
   ]
  },
  {
   "cell_type": "code",
   "execution_count": 10,
   "metadata": {},
   "outputs": [],
   "source": [
    "criterion = nn.CrossEntropyLoss()\n",
    "optimizer = optim.SGD(model.parameters(), lr=0.01, momentum=0.9)"
   ]
  },
  {
   "cell_type": "code",
   "execution_count": 11,
   "metadata": {},
   "outputs": [
    {
     "name": "stderr",
     "output_type": "stream",
     "text": [
      "100%|██████████| 16/16 [00:00<00:00, 16.99it/s]\n"
     ]
    },
    {
     "name": "stdout",
     "output_type": "stream",
     "text": [
      "Epoch 1, Train Loss: 2.274, Train Accuracy: 13.70%\n",
      "Epoch 1, Val Loss: 2.183, Val Accuracy: 28.00%\n"
     ]
    },
    {
     "name": "stderr",
     "output_type": "stream",
     "text": [
      "100%|██████████| 16/16 [00:00<00:00, 31.57it/s]\n"
     ]
    },
    {
     "name": "stdout",
     "output_type": "stream",
     "text": [
      "Epoch 2, Train Loss: 2.007, Train Accuracy: 32.50%\n",
      "Epoch 2, Val Loss: 1.693, Val Accuracy: 47.20%\n"
     ]
    },
    {
     "name": "stderr",
     "output_type": "stream",
     "text": [
      "100%|██████████| 16/16 [00:00<00:00, 31.84it/s]\n"
     ]
    },
    {
     "name": "stdout",
     "output_type": "stream",
     "text": [
      "Epoch 3, Train Loss: 1.333, Train Accuracy: 57.80%\n",
      "Epoch 3, Val Loss: 0.777, Val Accuracy: 78.00%\n"
     ]
    },
    {
     "name": "stderr",
     "output_type": "stream",
     "text": [
      "100%|██████████| 16/16 [00:00<00:00, 28.37it/s]\n"
     ]
    },
    {
     "name": "stdout",
     "output_type": "stream",
     "text": [
      "Epoch 4, Train Loss: 0.810, Train Accuracy: 73.60%\n",
      "Epoch 4, Val Loss: 0.508, Val Accuracy: 82.20%\n"
     ]
    },
    {
     "name": "stderr",
     "output_type": "stream",
     "text": [
      "100%|██████████| 16/16 [00:00<00:00, 27.30it/s]\n"
     ]
    },
    {
     "name": "stdout",
     "output_type": "stream",
     "text": [
      "Epoch 5, Train Loss: 0.507, Train Accuracy: 82.40%\n",
      "Epoch 5, Val Loss: 0.384, Val Accuracy: 88.40%\n",
      "Treinamento concluído\n"
     ]
    }
   ],
   "source": [
    "# Treinando a CNN\n",
    "history = train_model(\n",
    "    model=model,\n",
    "    trainloader=trainloader,\n",
    "    valloader=valloader,\n",
    "    criterion=criterion,\n",
    "    optimizer=optimizer\n",
    ")"
   ]
  },
  {
   "cell_type": "code",
   "execution_count": 12,
   "metadata": {},
   "outputs": [
    {
     "data": {
      "image/png": "[encoded data removed]",
      "text/plain": [
       "<Figure size 1200x500 with 2 Axes>"
      ]
     },
     "metadata": {},
     "output_type": "display_data"
    }
   ],
   "source": [
    "epochs = range(1, len(history['train_losses']) + 1)\n",
    "    \n",
    "# Plot de losses\n",
    "plt.figure(figsize=(12, 5))\n",
    "\n",
    "plt.subplot(1, 2, 1)\n",
    "plt.grid()\n",
    "plt.plot(epochs, history['train_losses'], label='Train Loss')\n",
    "plt.plot(epochs, history['val_losses'], label='Validation Loss')\n",
    "plt.xlabel('Epochs')\n",
    "plt.ylabel('Loss')\n",
    "plt.title('Training and Validation Loss')\n",
    "plt.legend()\n",
    "\n",
    "# Plot de accuracies\n",
    "plt.subplot(1, 2, 2)\n",
    "plt.grid()\n",
    "plt.plot(epochs, history['train_accuracies'], label='Train Accuracy')\n",
    "plt.plot(epochs, history['val_accuracies'], label='Validation Accuracy')\n",
    "plt.xlabel('Epochs')\n",
    "plt.ylabel('Accuracy')\n",
    "plt.title('Training and Validation Accuracy')\n",
    "plt.legend()\n",
    "\n",
    "plt.tight_layout()\n",
    "plt.show()"
   ]
  },
  {
   "cell_type": "code",
   "execution_count": 13,
   "metadata": {},
   "outputs": [
    {
     "name": "stdout",
     "output_type": "stream",
     "text": [
      "Acurácia da rede na base de teste: 88.60%\n"
     ]
    }
   ],
   "source": [
    "test_model(model, testloader)"
   ]
  },
  {
   "cell_type": "markdown",
   "metadata": {},
   "source": [
    "## Exercícios"
   ]
  },
  {
   "cell_type": "markdown",
   "metadata": {},
   "source": [
    "### Exercício 1\n",
    "Na CNN implementada, execute experimentos variando:\n",
    "- O número de filtros convolucionais em `self.conv1` (6 e 8)\n",
    "- O número de filtros convolucionais em `self.conv2` (12 e 16)\n",
    "\n",
    "Ao final, observe qual combinação desempenha melhor no conjunto de testes.\n",
    "\n",
    "Dica: Adicionar argumentos no construtor da classe para determinar o número de filtros em cada camada pode ser útil para inicializar diversos modelos."
   ]
  },
  {
   "cell_type": "code",
   "execution_count": 14,
   "metadata": {},
   "outputs": [],
   "source": [
    "class CNN(nn.Module):\n",
    "    def __init__(self, num_filter_1=6, num_filter_2=12,initialize_weights=True, dropout=0.2):\n",
    "        super(CNN, self).__init__()\n",
    "        self.conv1 = nn.Conv2d(1, num_filter_1, 5)\n",
    "        self.conv2 = nn.Conv2d(num_filter_1, num_filter_2, 5)\n",
    "        self.fc1 = nn.Linear(num_filter_2 * 4 * 4, 64)\n",
    "        self.fc2 = nn.Linear(64, 10)\n",
    "        self.dropout = nn.Dropout(dropout)\n",
    "\n",
    "        if initialize_weights:\n",
    "            self._initialize_weights()\n",
    "\n",
    "    def forward(self, x):\n",
    "        # CNN\n",
    "        x = F.relu(self.conv1(x))\n",
    "        x = F.max_pool2d(x, 2, 2)\n",
    "        x = F.relu(self.conv2(x))\n",
    "        x = F.max_pool2d(x, 2, 2)\n",
    "\n",
    "        # Flatten\n",
    "        x = x.view(-1, 12 * 4 * 4)\n",
    "        x = self.dropout(F.relu(self.fc1(x)))\n",
    "        x = self.fc2(x)\n",
    "\n",
    "        return x\n",
    "\n",
    "    def _initialize_weights(self):\n",
    "        for m in self.modules():\n",
    "            if isinstance(m, nn.Conv2d) or isinstance(m, nn.Linear):\n",
    "                nn.init.xavier_normal_(m.weight)\n",
    "                if m.bias is not None:\n",
    "                    nn.init.constant_(m.bias, 0)"
   ]
  },
  {
   "cell_type": "code",
   "execution_count": 15,
   "metadata": {},
   "outputs": [],
   "source": [
    "#parameters_combinations = [(2,4), (2,16), (8,4),(8,16)]\n",
    "parameters_combinations = [(6,8),(12,16)]\n",
    "\n",
    "for num_filters_1, num_filters_2 in parameters_combinations:\n",
    "    model = CNN(\n",
    "        num_filter_1=num_filters_1,\n",
    "        num_filter_2=num_filters_2,\n",
    "        initialize_weights=True,\n",
    "        dropout=0.2\n",
    "    )\n",
    "\n",
    "model = CNN(\n",
    "    initialize_weights=True,\n",
    "    dropout=0.2\n",
    ")"
   ]
  },
  {
   "cell_type": "code",
   "execution_count": 16,
   "metadata": {},
   "outputs": [],
   "source": [
    "criterion = nn.CrossEntropyLoss()\n",
    "optimizer = optim.SGD(model.parameters(), lr=0.01, momentum=0.9)"
   ]
  },
  {
   "cell_type": "code",
   "execution_count": 17,
   "metadata": {},
   "outputs": [
    {
     "name": "stderr",
     "output_type": "stream",
     "text": [
      "100%|██████████| 16/16 [00:00<00:00, 26.67it/s]\n"
     ]
    },
    {
     "name": "stdout",
     "output_type": "stream",
     "text": [
      "Epoch 1, Train Loss: 2.270, Train Accuracy: 13.70%\n",
      "Epoch 1, Val Loss: 2.157, Val Accuracy: 28.60%\n"
     ]
    },
    {
     "name": "stderr",
     "output_type": "stream",
     "text": [
      "100%|██████████| 16/16 [00:00<00:00, 32.16it/s]\n"
     ]
    },
    {
     "name": "stdout",
     "output_type": "stream",
     "text": [
      "Epoch 2, Train Loss: 1.933, Train Accuracy: 35.60%\n",
      "Epoch 2, Val Loss: 1.562, Val Accuracy: 50.60%\n"
     ]
    },
    {
     "name": "stderr",
     "output_type": "stream",
     "text": [
      "100%|██████████| 16/16 [00:00<00:00, 29.67it/s]\n"
     ]
    },
    {
     "name": "stdout",
     "output_type": "stream",
     "text": [
      "Epoch 3, Train Loss: 1.290, Train Accuracy: 57.00%\n",
      "Epoch 3, Val Loss: 0.938, Val Accuracy: 69.60%\n"
     ]
    },
    {
     "name": "stderr",
     "output_type": "stream",
     "text": [
      "100%|██████████| 16/16 [00:00<00:00, 24.25it/s]\n"
     ]
    },
    {
     "name": "stdout",
     "output_type": "stream",
     "text": [
      "Epoch 4, Train Loss: 0.833, Train Accuracy: 72.80%\n",
      "Epoch 4, Val Loss: 0.599, Val Accuracy: 82.80%\n"
     ]
    },
    {
     "name": "stderr",
     "output_type": "stream",
     "text": [
      "100%|██████████| 16/16 [00:00<00:00, 30.40it/s]\n"
     ]
    },
    {
     "name": "stdout",
     "output_type": "stream",
     "text": [
      "Epoch 5, Train Loss: 0.564, Train Accuracy: 82.10%\n",
      "Epoch 5, Val Loss: 0.487, Val Accuracy: 84.60%\n",
      "Treinamento concluído\n"
     ]
    }
   ],
   "source": [
    "history = train_model(\n",
    "        model=model,\n",
    "        trainloader=trainloader,\n",
    "        valloader=valloader,\n",
    "        criterion=criterion,\n",
    "        optimizer=optimizer\n",
    "    )"
   ]
  },
  {
   "cell_type": "code",
   "execution_count": 18,
   "metadata": {},
   "outputs": [
    {
     "name": "stdout",
     "output_type": "stream",
     "text": [
      "Acurácia da rede na base de teste: 85.80%\n",
      "\n"
     ]
    }
   ],
   "source": [
    "test_model(model, testloader)\n",
    "print()"
   ]
  },
  {
   "cell_type": "markdown",
   "metadata": {},
   "source": [
    "### Exercício 2\n",
    "\n",
    "Na CNN implementada, execute 5 treinamentos variando aleatoriamente o número de neurônios de saída em `self.fc1` (o valor atual é 64 e também deve ser alterado na entrada da próxima camada).\n",
    "\n",
    "Como você determinaria qual foi o melhor valor?"
   ]
  },
  {
   "cell_type": "code",
   "execution_count": 19,
   "metadata": {},
   "outputs": [
    {
     "name": "stdout",
     "output_type": "stream",
     "text": [
      "Número de neurônios na camada fully connected: 55\n",
      "Número de neurônios na camada fully connected: 78\n",
      "Número de neurônios na camada fully connected: 90\n",
      "Número de neurônios na camada fully connected: 61\n",
      "Número de neurônios na camada fully connected: 20\n"
     ]
    }
   ],
   "source": [
    "# for i in range(5):\n",
    "#     num_neurons = np.random.randint(10, 100)\n",
    "#     model = ...\n",
    "#     criterion = ...\n",
    "#     optimizer = ...\n",
    "#     history = ...\n",
    "\n",
    "#     print(f'Número de neurônios na camada fully connected: {num_neurons}')\n",
    "#     test_model(model, testloader)\n",
    "#     print()\n",
    "\n",
    "\n",
    "for i in range(5):\n",
    "     num_neurons = np.random.randint(10, 100)\n",
    "     model = model\n",
    "     criterion = criterion\n",
    "     optimizer = optimizer\n",
    "     history = history\n",
    "\n",
    "     print(f'Número de neurônios na camada fully connected: {num_neurons}')"
   ]
  }
 ],
 "metadata": {
  "kernelspec": {
   "display_name": "Python 3",
   "language": "python",
   "name": "python3"
  },
  "language_info": {
   "codemirror_mode": {
    "name": "ipython",
    "version": 3
   },
   "file_extension": ".py",
   "mimetype": "text/x-python",
   "name": "python",
   "nbconvert_exporter": "python",
   "pygments_lexer": "ipython3",
   "version": "3.12.0"
  }
 },
 "nbformat": 4,
 "nbformat_minor": 2
}
